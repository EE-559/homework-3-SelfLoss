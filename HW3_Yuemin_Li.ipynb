{
 "cells": [
  {
   "cell_type": "code",
   "execution_count": 57,
   "id": "9a4dbd92",
   "metadata": {},
   "outputs": [],
   "source": [
    "import pandas as pd\n",
    "import numpy as np\n",
    "from sklearn.model_selection import train_test_split\n",
    "from sklearn.preprocessing import LabelEncoder"
   ]
  },
  {
   "cell_type": "markdown",
   "id": "ea7096e3",
   "metadata": {},
   "source": [
    "## (a)  Loading data"
   ]
  },
  {
   "cell_type": "code",
   "execution_count": 58,
   "id": "2505935b",
   "metadata": {},
   "outputs": [],
   "source": [
    "filename = \"wpbc.data\"\n",
    "columns = [\"ID\", \"Outcome\"] + [f\"Feature_{i}\" for i in range (1, 34)]\n",
    "df = pd.read_csv(filename, header=None, names=columns)\n",
    "\n",
    "# Transfer 'Outcome' (N, R) to 0 (Non-Recurrent) and 1 (Recurrent)\n",
    "label_encoder = LabelEncoder()\n",
    "df[\"Outcome\"] = label_encoder.fit_transform(df[\"Outcome\"])\n",
    "\n",
    "# Drop the ID column\n",
    "df.drop(columns=[\"ID\"], inplace=True)\n"
   ]
  },
  {
   "cell_type": "code",
   "execution_count": 59,
   "id": "e0352050",
   "metadata": {},
   "outputs": [
    {
     "name": "stdout",
     "output_type": "stream",
     "text": [
      "   Outcome  Feature_1  Feature_2  Feature_3  Feature_4  Feature_5  Feature_6  \\\n",
      "0        0         31      18.02      27.60     117.50     1013.0    0.09489   \n",
      "1        0         61      17.99      10.38     122.80     1001.0    0.11840   \n",
      "2        0        116      21.37      17.44     137.50     1373.0    0.08836   \n",
      "3        0        123      11.42      20.38      77.58      386.1    0.14250   \n",
      "4        1         27      20.29      14.34     135.10     1297.0    0.10030   \n",
      "\n",
      "   Feature_7  Feature_8  Feature_9  ...  Feature_24  Feature_25  Feature_26  \\\n",
      "0     0.1036     0.1086    0.07055  ...      139.70      1436.0      0.1195   \n",
      "1     0.2776     0.3001    0.14710  ...      184.60      2019.0      0.1622   \n",
      "2     0.1189     0.1255    0.08180  ...      159.10      1949.0      0.1188   \n",
      "3     0.2839     0.2414    0.10520  ...       98.87       567.7      0.2098   \n",
      "4     0.1328     0.1980    0.10430  ...      152.20      1575.0      0.1374   \n",
      "\n",
      "   Feature_27  Feature_28  Feature_29  Feature_30  Feature_31  Feature_32  \\\n",
      "0      0.1926      0.3140      0.1170      0.2677     0.08113         5.0   \n",
      "1      0.6656      0.7119      0.2654      0.4601     0.11890         3.0   \n",
      "2      0.3449      0.3414      0.2032      0.4334     0.09067         2.5   \n",
      "3      0.8663      0.6869      0.2575      0.6638     0.17300         2.0   \n",
      "4      0.2050      0.4000      0.1625      0.2364     0.07678         3.5   \n",
      "\n",
      "   Feature_33  \n",
      "0           5  \n",
      "1           2  \n",
      "2           0  \n",
      "3           0  \n",
      "4           0  \n",
      "\n",
      "[5 rows x 34 columns]\n",
      "The shape of the data set is:  (198, 34)\n"
     ]
    }
   ],
   "source": [
    "# Check the dataset\n",
    "print(df.head())\n",
    "print(\"The shape of the data set is: \", df.shape)"
   ]
  },
  {
   "cell_type": "markdown",
   "id": "11402c22",
   "metadata": {},
   "source": [
    "## (b) Creating the Training Set"
   ]
  },
  {
   "cell_type": "code",
   "execution_count": 60,
   "id": "e1e8af82",
   "metadata": {},
   "outputs": [],
   "source": [
    "# Select the first 130 non-recurrent cases and the first 37 recurrent cases as training set.\n",
    "df_n_rec = df[df[\"Outcome\"] == 0].iloc[:130]\n",
    "df_rec = df[df[\"Outcome\"] == 1].iloc[:37]\n",
    "\n",
    "df_train = pd.concat([df_n_rec, df_rec])\n",
    "df_test = df.drop(df_train.index)  # Set other data as test set.\n",
    "\n",
    "# Add record #197 in the data set to the training set.\n",
    "df_train = pd.concat([df_train, df.iloc[[197]]])\n",
    "df_test = df.drop(df_train.index)\n",
    "\n",
    "# Devide the dataset to features and labels.\n",
    "X_train, y_train = df_train.drop(columns=[\"Outcome\"]), df_train[\"Outcome\"]\n",
    "X_test, y_test = df_test.drop(columns=[\"Outcome\"]), df_test[\"Outcome\"]\n"
   ]
  },
  {
   "cell_type": "code",
   "execution_count": 61,
   "id": "c9849c2a",
   "metadata": {},
   "outputs": [
    {
     "name": "stdout",
     "output_type": "stream",
     "text": [
      "Size of training set:  (168, 33)\n",
      "Size of test set:  (30, 33)\n"
     ]
    }
   ],
   "source": [
    "# Check the training set and test set\n",
    "print(\"Size of training set: \", X_train.shape)\n",
    "print(\"Size of test set: \", X_test.shape)"
   ]
  },
  {
   "cell_type": "code",
   "execution_count": null,
   "id": "fb75af57",
   "metadata": {},
   "outputs": [],
   "source": []
  },
  {
   "cell_type": "markdown",
   "id": "528de240",
   "metadata": {},
   "source": [
    "## (c) Replacing the Missing Features with Median in Training Set."
   ]
  },
  {
   "cell_type": "code",
   "execution_count": 62,
   "id": "d9c20f5f",
   "metadata": {},
   "outputs": [
    {
     "name": "stdout",
     "output_type": "stream",
     "text": [
      "Before processing missing values: \n",
      "Outcome       0\n",
      "Feature_1     0\n",
      "Feature_2     0\n",
      "Feature_3     0\n",
      "Feature_4     0\n",
      "Feature_5     0\n",
      "Feature_6     0\n",
      "Feature_7     0\n",
      "Feature_8     0\n",
      "Feature_9     0\n",
      "Feature_10    0\n",
      "Feature_11    0\n",
      "Feature_12    0\n",
      "Feature_13    0\n",
      "Feature_14    0\n",
      "Feature_15    0\n",
      "Feature_16    0\n",
      "Feature_17    0\n",
      "Feature_18    0\n",
      "Feature_19    0\n",
      "Feature_20    0\n",
      "Feature_21    0\n",
      "Feature_22    0\n",
      "Feature_23    0\n",
      "Feature_24    0\n",
      "Feature_25    0\n",
      "Feature_26    0\n",
      "Feature_27    0\n",
      "Feature_28    0\n",
      "Feature_29    0\n",
      "Feature_30    0\n",
      "Feature_31    0\n",
      "Feature_32    0\n",
      "Feature_33    3\n",
      "dtype: int64\n"
     ]
    }
   ],
   "source": [
    "last_col = X_train.columns[-1]\n",
    "# Check the number of missing features before processing.\n",
    "print(\"Before processing missing values: \")\n",
    "print((df_train == \"?\").sum())"
   ]
  },
  {
   "cell_type": "code",
   "execution_count": 64,
   "id": "8e19fc6e",
   "metadata": {},
   "outputs": [],
   "source": [
    "if \"?\" in df_train.values:\n",
    "    df_train.replace(\"?\", np.nan, inplace=True)\n",
    "    last_column = df_train.columns[-1]  \n",
    "    df_train[last_column] = df_train[last_column].astype(float)  \n",
    "    df_train[last_column].fillna(df_train[last_column].median(), inplace=True)  \n",
    "\n",
    "if \"?\" in df_test.values:\n",
    "    df_test.replace(\"?\", np.nan, inplace=True)\n",
    "    last_column_test = df_test.columns[-1]  \n",
    "    df_test[last_column_test] = df_test[last_column_test].astype(float)\n",
    "    df_test[last_column_test].fillna(df_test[last_column_test].median(), inplace=True)\n"
   ]
  },
  {
   "cell_type": "code",
   "execution_count": 65,
   "id": "f8415388",
   "metadata": {},
   "outputs": [
    {
     "name": "stdout",
     "output_type": "stream",
     "text": [
      "After processing missing values: \n",
      "Outcome       0\n",
      "Feature_1     0\n",
      "Feature_2     0\n",
      "Feature_3     0\n",
      "Feature_4     0\n",
      "Feature_5     0\n",
      "Feature_6     0\n",
      "Feature_7     0\n",
      "Feature_8     0\n",
      "Feature_9     0\n",
      "Feature_10    0\n",
      "Feature_11    0\n",
      "Feature_12    0\n",
      "Feature_13    0\n",
      "Feature_14    0\n",
      "Feature_15    0\n",
      "Feature_16    0\n",
      "Feature_17    0\n",
      "Feature_18    0\n",
      "Feature_19    0\n",
      "Feature_20    0\n",
      "Feature_21    0\n",
      "Feature_22    0\n",
      "Feature_23    0\n",
      "Feature_24    0\n",
      "Feature_25    0\n",
      "Feature_26    0\n",
      "Feature_27    0\n",
      "Feature_28    0\n",
      "Feature_29    0\n",
      "Feature_30    0\n",
      "Feature_31    0\n",
      "Feature_32    0\n",
      "Feature_33    0\n",
      "dtype: int64\n",
      "Outcome       0\n",
      "Feature_1     0\n",
      "Feature_2     0\n",
      "Feature_3     0\n",
      "Feature_4     0\n",
      "Feature_5     0\n",
      "Feature_6     0\n",
      "Feature_7     0\n",
      "Feature_8     0\n",
      "Feature_9     0\n",
      "Feature_10    0\n",
      "Feature_11    0\n",
      "Feature_12    0\n",
      "Feature_13    0\n",
      "Feature_14    0\n",
      "Feature_15    0\n",
      "Feature_16    0\n",
      "Feature_17    0\n",
      "Feature_18    0\n",
      "Feature_19    0\n",
      "Feature_20    0\n",
      "Feature_21    0\n",
      "Feature_22    0\n",
      "Feature_23    0\n",
      "Feature_24    0\n",
      "Feature_25    0\n",
      "Feature_26    0\n",
      "Feature_27    0\n",
      "Feature_28    0\n",
      "Feature_29    0\n",
      "Feature_30    0\n",
      "Feature_31    0\n",
      "Feature_32    0\n",
      "Feature_33    0\n",
      "dtype: int64\n"
     ]
    }
   ],
   "source": [
    "# Check the number of missing features after processing.\n",
    "print(\"After processing missing values: \")\n",
    "print((df_train == \"?\").sum())\n",
    "print((df_test == \"?\").sum())"
   ]
  },
  {
   "cell_type": "code",
   "execution_count": 66,
   "id": "6d94904c",
   "metadata": {},
   "outputs": [],
   "source": [
    "# Devide features and labels after processing.\n",
    "X_train, y_train = df_train.drop(columns=[\"Outcome\"]), df_train[\"Outcome\"]\n",
    "X_test, y_test = df_test.drop(columns=[\"Outcome\"]), df_test[\"Outcome\"]"
   ]
  },
  {
   "cell_type": "code",
   "execution_count": null,
   "id": "f792252b",
   "metadata": {},
   "outputs": [],
   "source": []
  },
  {
   "cell_type": "markdown",
   "id": "7e5b21be",
   "metadata": {},
   "source": [
    "## (d) Binary Classification Using Naïve Bayes' Classifiers"
   ]
  },
  {
   "cell_type": "markdown",
   "id": "51222dbe",
   "metadata": {},
   "source": [
    "### (i) Naïve Bayes' Classifiers"
   ]
  },
  {
   "cell_type": "code",
   "execution_count": 67,
   "id": "c9a62d3b",
   "metadata": {},
   "outputs": [],
   "source": [
    "from sklearn.naive_bayes import GaussianNB\n",
    "from sklearn.metrics import confusion_matrix, roc_auc_score, precision_score, recall_score, f1_score, roc_curve\n",
    "import matplotlib.pyplot as plt\n",
    "from imblearn.over_sampling import SMOTE"
   ]
  },
  {
   "cell_type": "code",
   "execution_count": 68,
   "id": "df6d92ba-98a3-41db-bb82-b058d4583b80",
   "metadata": {},
   "outputs": [
    {
     "name": "stdout",
     "output_type": "stream",
     "text": [
      "0\n"
     ]
    }
   ],
   "source": [
    "X_train.fillna(X_train.median(), inplace=True)\n",
    "X_test.fillna(X_train.median(), inplace=True)\n",
    "print(X_train.isna().sum().sum())"
   ]
  },
  {
   "cell_type": "code",
   "execution_count": 69,
   "id": "215ecda7",
   "metadata": {},
   "outputs": [
    {
     "name": "stdout",
     "output_type": "stream",
     "text": [
      "======================================\n",
      "Training Set Metrics: \n",
      "Confusion Matrix: \n",
      " [[103  28]\n",
      " [ 17  20]]\n",
      "Precision: \n",
      " 0.4166666666666667\n",
      "Recall: \n",
      " 0.5405405405405406\n",
      "F1 Score: \n",
      " 0.47058823529411764\n",
      "AUC: \n",
      " 0.7276665978956056\n",
      "======================================\n",
      "Test Set Metrics: \n",
      "Confusion Matrix: \n",
      " [[12  8]\n",
      " [ 5  5]]\n",
      "Precision: \n",
      " 0.38461538461538464\n",
      "Recall: \n",
      " 0.5\n",
      "F1 Score: \n",
      " 0.43478260869565216\n",
      "AUC: \n",
      " 0.5900000000000001\n",
      "======================================\n"
     ]
    },
    {
     "data": {
      "image/png": "[encoded data removed]",
      "text/plain": [
       "<Figure size 640x480 with 1 Axes>"
      ]
     },
     "metadata": {},
     "output_type": "display_data"
    }
   ],
   "source": [
    "nb_classifier = GaussianNB()\n",
    "nb_classifier.fit(X_train, y_train)\n",
    "\n",
    "# Prediction\n",
    "y_train_pred = nb_classifier.predict(X_train)\n",
    "y_test_pred = nb_classifier.predict(X_test)\n",
    "\n",
    "# Calculate evaluation metrics\n",
    "print(\"======================================\")\n",
    "print(\"Training Set Metrics: \")\n",
    "print(\"Confusion Matrix: \\n\", confusion_matrix(y_train, y_train_pred))\n",
    "print(\"Precision: \\n\", precision_score(y_train, y_train_pred))\n",
    "print(\"Recall: \\n\", recall_score(y_train, y_train_pred))\n",
    "print(\"F1 Score: \\n\", f1_score(y_train, y_train_pred))\n",
    "print(\"AUC: \\n\", roc_auc_score(y_train, nb_classifier.predict_proba(X_train)[:, 1]))\n",
    "\n",
    "print(\"======================================\")\n",
    "print(\"Test Set Metrics: \")\n",
    "print(\"Confusion Matrix: \\n\", confusion_matrix(y_test, y_test_pred))\n",
    "print(\"Precision: \\n\", precision_score(y_test, y_test_pred))\n",
    "print(\"Recall: \\n\", recall_score(y_test, y_test_pred))\n",
    "print(\"F1 Score: \\n\", f1_score(y_test, y_test_pred))\n",
    "print(\"AUC: \\n\", roc_auc_score(y_test, nb_classifier.predict_proba(X_test)[:, 1]))\n",
    "\n",
    "# Plotting the ROC curve\n",
    "print(\"======================================\")\n",
    "auc_test = roc_auc_score(y_test, nb_classifier.predict_proba(X_test)[:, 1])\n",
    "fpr, tpr, _ = roc_curve(y_test, nb_classifier.predict_proba(X_test)[:, 1])\n",
    "plt.plot(fpr, tpr, label=f'AUC = {auc_test:.2f}')\n",
    "plt.xlabel('False Positive Rate')\n",
    "plt.ylabel('True Positive Rate')\n",
    "plt.title('ROC Curve for Naive Bayes Classifier')\n",
    "plt.legend()\n",
    "plt.show()\n"
   ]
  },
  {
   "cell_type": "markdown",
   "id": "1fb0ff6e-bc9c-479f-b7c9-7e5c94e702e3",
   "metadata": {},
   "source": [
    "### (ii) Balance the Data Set Using SMOTE"
   ]
  },
  {
   "cell_type": "code",
   "execution_count": 70,
   "id": "ef37133d-8e08-4e72-a3ca-767e8080e362",
   "metadata": {},
   "outputs": [],
   "source": [
    "downsample_size = 90\n",
    "smote = SMOTE(sampling_strategy=1.0, k_neighbors=5, random_state=42)\n",
    "X_train_smote, y_train_smote = smote.fit_resample(X_train, y_train)"
   ]
  },
  {
   "cell_type": "code",
   "execution_count": null,
   "id": "1ad29c35-339d-4d76-8ce9-adfa2ec8a0d3",
   "metadata": {},
   "outputs": [],
   "source": []
  },
  {
   "cell_type": "code",
   "execution_count": 71,
   "id": "85077c15-9d2f-433e-8911-03195a5fdab8",
   "metadata": {},
   "outputs": [
    {
     "name": "stdout",
     "output_type": "stream",
     "text": [
      "======================================\n",
      "Training Set Metrics after SMOTE: \n",
      "Confusion Matrix: \n",
      " [[94 37]\n",
      " [44 87]]\n",
      "Precision: \n",
      " 0.7016129032258065\n",
      "Recall: \n",
      " 0.6641221374045801\n",
      "F1 Score: \n",
      " 0.6823529411764706\n",
      "AUC: \n",
      " 0.7700017481498747\n",
      "======================================\n",
      "Test Set Metrics after SMOTE: \n",
      "Confusion Matrix: \n",
      " [[13  7]\n",
      " [ 4  6]]\n",
      "Precision: \n",
      " 0.46153846153846156\n",
      "Recall: \n",
      " 0.6\n",
      "F1 Score: \n",
      " 0.5217391304347826\n",
      "AUC: \n",
      " 0.695\n",
      "======================================\n"
     ]
    },
    {
     "data": {
      "image/png": "[encoded data removed]",
      "text/plain": [
       "<Figure size 640x480 with 1 Axes>"
      ]
     },
     "metadata": {},
     "output_type": "display_data"
    }
   ],
   "source": [
    "\n",
    "\n",
    "# Re-Training the model.\n",
    "nb_classifier_smote = GaussianNB()\n",
    "nb_classifier_smote.fit(X_train_smote, y_train_smote)\n",
    "\n",
    "y_train_pred_smote = nb_classifier_smote.predict(X_train_smote)\n",
    "y_test_pred_smote = nb_classifier_smote.predict(X_test)\n",
    "\n",
    "# Calculate evaluation metrics after SMOTE\n",
    "print(\"======================================\")\n",
    "print(\"Training Set Metrics after SMOTE: \")\n",
    "print(\"Confusion Matrix: \\n\", confusion_matrix(y_train_smote, y_train_pred_smote))\n",
    "print(\"Precision: \\n\", precision_score(y_train_smote, y_train_pred_smote))\n",
    "print(\"Recall: \\n\", recall_score(y_train_smote, y_train_pred_smote))\n",
    "print(\"F1 Score: \\n\", f1_score(y_train_smote,y_train_pred_smote))\n",
    "print(\"AUC: \\n\", roc_auc_score(y_train_smote, nb_classifier_smote.predict_proba(X_train_smote)[:, 1]))\n",
    "\n",
    "print(\"======================================\")\n",
    "print(\"Test Set Metrics after SMOTE: \")\n",
    "print(\"Confusion Matrix: \\n\", confusion_matrix(y_test, y_test_pred_smote))\n",
    "print(\"Precision: \\n\", precision_score(y_test, y_test_pred_smote))\n",
    "print(\"Recall: \\n\", recall_score(y_test, y_test_pred_smote))\n",
    "print(\"F1 Score: \\n\", f1_score(y_test, y_test_pred_smote))\n",
    "auc_test_smote = roc_auc_score(y_test, nb_classifier_smote.predict_proba(X_test)[:, 1])\n",
    "print(\"AUC: \\n\", auc_test_smote)\n",
    "\n",
    "# Plotting the ROC curve after SMOTE\n",
    "print(\"======================================\")\n",
    "fpr, tpr, _ = roc_curve(y_test, nb_classifier_smote.predict_proba(X_test)[:, 1])\n",
    "plt.plot(fpr, tpr, label=f'AUC after SMOTE = {auc_test_smote:.2f}')\n",
    "plt.xlabel('False Positive Rate')\n",
    "plt.ylabel('True Positive Rate')\n",
    "plt.title('ROC Curve after SMOTE')\n",
    "plt.legend()\n",
    "plt.show()"
   ]
  },
  {
   "cell_type": "markdown",
   "id": "1b94c6b7-7f66-4e0f-a45b-14b53aa3d1b0",
   "metadata": {},
   "source": [
    "#### SMOTE does help."
   ]
  }
 ],
 "metadata": {
  "kernelspec": {
   "display_name": "Python 3 (ipykernel)",
   "language": "python",
   "name": "python3"
  },
  "language_info": {
   "codemirror_mode": {
    "name": "ipython",
    "version": 3
   },
   "file_extension": ".py",
   "mimetype": "text/x-python",
   "name": "python",
   "nbconvert_exporter": "python",
   "pygments_lexer": "ipython3",
   "version": "3.11.5"
  }
 },
 "nbformat": 4,
 "nbformat_minor": 5
}
